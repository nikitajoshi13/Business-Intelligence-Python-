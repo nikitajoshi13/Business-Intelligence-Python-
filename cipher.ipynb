{
 "cells": [
  {
   "cell_type": "code",
   "execution_count": 3,
   "metadata": {},
   "outputs": [
    {
     "name": "stdout",
     "output_type": "stream",
     "text": [
      "enter text = nikita\n",
      "enter key = 3241\n",
      "iiantk\n"
     ]
    }
   ],
   "source": [
    "def split_len(seq,length):\n",
    "    return [seq[i:i+length]for i in range(0,len(seq),length)]\n",
    "def encode(key,plain):\n",
    "    order={\n",
    "        int(val):num for num,val in enumerate(key)\n",
    "    }\n",
    "    cipher=''\n",
    "    for index in sorted(order.keys()) :\n",
    "        for part in split_len(plain,len(key)):\n",
    "            try:\n",
    "                cipher+=part[order[index]]\n",
    "            except IndexError:\n",
    "                continue\n",
    "    return cipher\n",
    "a=input(\"enter text = \")\n",
    "key=input(\"enter key = \")\n",
    "print(encode(key,a))\n"
   ]
  },
  {
   "cell_type": "code",
   "execution_count": null,
   "metadata": {
    "collapsed": true
   },
   "outputs": [],
   "source": []
  }
 ],
 "metadata": {
  "kernelspec": {
   "display_name": "Python 3",
   "language": "python",
   "name": "python3"
  },
  "language_info": {
   "codemirror_mode": {
    "name": "ipython",
    "version": 3
   },
   "file_extension": ".py",
   "mimetype": "text/x-python",
   "name": "python",
   "nbconvert_exporter": "python",
   "pygments_lexer": "ipython3",
   "version": "3.6.3"
  }
 },
 "nbformat": 4,
 "nbformat_minor": 2
}
